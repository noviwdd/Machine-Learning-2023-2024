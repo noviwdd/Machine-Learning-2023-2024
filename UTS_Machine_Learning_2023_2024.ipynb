{
  "nbformat": 4,
  "nbformat_minor": 0,
  "metadata": {
    "colab": {
      "provenance": [],
      "collapsed_sections": [
        "GUCReOjbWLvA",
        "5O2Tw38aWMbB"
      ],
      "include_colab_link": true
    },
    "kernelspec": {
      "name": "python3",
      "display_name": "Python 3"
    },
    "language_info": {
      "name": "python"
    }
  },
  "cells": [
    {
      "cell_type": "markdown",
      "metadata": {
        "id": "view-in-github",
        "colab_type": "text"
      },
      "source": [
        "<a href=\"https://colab.research.google.com/github/noviwdd/UTS-Machine-Learning-2023-2024/blob/main/UTS_Machine_Learning_2023_2024.ipynb\" target=\"_parent\"><img src=\"https://colab.research.google.com/assets/colab-badge.svg\" alt=\"Open In Colab\"/></a>"
      ]
    },
    {
      "cell_type": "code",
      "execution_count": 1,
      "metadata": {
        "colab": {
          "base_uri": "https://localhost:8080/"
        },
        "id": "dGjT9Sj_QMEu",
        "outputId": "45724172-06d5-4bd3-babb-43d306b60588"
      },
      "outputs": [
        {
          "output_type": "stream",
          "name": "stdout",
          "text": [
            "Collecting kneed\n",
            "  Downloading kneed-0.8.5-py3-none-any.whl (10 kB)\n",
            "Requirement already satisfied: numpy>=1.14.2 in /usr/local/lib/python3.10/dist-packages (from kneed) (1.23.5)\n",
            "Requirement already satisfied: scipy>=1.0.0 in /usr/local/lib/python3.10/dist-packages (from kneed) (1.11.3)\n",
            "Installing collected packages: kneed\n",
            "Successfully installed kneed-0.8.5\n"
          ]
        }
      ],
      "source": [
        "# Importing libraries\n",
        "!pip install --upgrade kneed\n",
        "\n",
        "import numpy as np\n",
        "import pandas as pd\n",
        "# from sklearn.preprocessing import MinMaxScaler\n",
        "from sklearn.preprocessing import StandardScaler\n",
        "from sklearn.impute import SimpleImputer\n",
        "from sklearn.metrics import confusion_matrix, classification_report, silhouette_score\n",
        "from sklearn.model_selection import train_test_split\n",
        "from matplotlib import pyplot as plt\n",
        "from sklearn import tree\n",
        "from sklearn.tree import DecisionTreeClassifier\n",
        "from kneed import KneeLocator\n",
        "from sklearn.cluster import KMeans"
      ]
    },
    {
      "cell_type": "markdown",
      "source": [
        "# Soal Nomor 2"
      ],
      "metadata": {
        "id": "GUCReOjbWLvA"
      }
    },
    {
      "cell_type": "code",
      "source": [
        "# Menampilkan dataset\n",
        "url = 'https://raw.githubusercontent.com/isnanmulia/lecture-datasets/main/mobileprice_modified.csv'\n",
        "dataset = pd.read_csv(url)\n",
        "print(dataset)"
      ],
      "metadata": {
        "colab": {
          "base_uri": "https://localhost:8080/"
        },
        "id": "ubUzDjs8QRiX",
        "outputId": "6a58a4ed-b825-41fd-9500-af125ff85a31"
      },
      "execution_count": 2,
      "outputs": [
        {
          "output_type": "stream",
          "name": "stdout",
          "text": [
            "      battery_power  blue  clock_speed  dual_sim  fc  four_g  int_memory  \\\n",
            "0             842.0     0          2.2         0   1       0         7.0   \n",
            "1            1021.0     1          0.5         1   0       1        53.0   \n",
            "2             563.0     1          0.5         1   2       1        41.0   \n",
            "3             615.0     1          2.5         0   0       0        10.0   \n",
            "4            1821.0     1          1.2         0  13       1        44.0   \n",
            "...             ...   ...          ...       ...  ..     ...         ...   \n",
            "1995          794.0     1          0.5         1   0       1         2.0   \n",
            "1996         1965.0     1          2.6         1   0       0        39.0   \n",
            "1997         1911.0     0          0.9         1   1       1        36.0   \n",
            "1998         1512.0     0          0.9         0   4       1        46.0   \n",
            "1999          510.0     1          2.0         1   5       1        45.0   \n",
            "\n",
            "      m_dep  mobile_wt  n_cores  ...  px_height  px_width     ram  sc_h  sc_w  \\\n",
            "0       0.6      188.0        2  ...         20       756     NaN     9     7   \n",
            "1       0.7      136.0        3  ...        905      1988  2631.0    17     3   \n",
            "2       0.9      145.0        5  ...       1263      1716  2603.0    11     2   \n",
            "3       0.8      131.0        6  ...       1216      1786  2769.0    16     8   \n",
            "4       0.6      141.0        2  ...       1208      1212  1411.0     8     2   \n",
            "...     ...        ...      ...  ...        ...       ...     ...   ...   ...   \n",
            "1995    0.8      106.0        6  ...       1222      1890   668.0    13     4   \n",
            "1996    0.2      187.0        4  ...        915      1965  2032.0    11    10   \n",
            "1997    0.7      108.0        8  ...        868      1632  3057.0     9     1   \n",
            "1998    0.1      145.0        5  ...        336       670   869.0    18    10   \n",
            "1999    0.9      168.0        6  ...        483       754  3919.0    19     4   \n",
            "\n",
            "      talk_time  three_g  touch_screen  wifi  price_range  \n",
            "0            19        0             0     1            1  \n",
            "1             7        1             1     0            2  \n",
            "2             9        1             1     0            2  \n",
            "3            11        1             0     0            2  \n",
            "4            15        1             1     0            1  \n",
            "...         ...      ...           ...   ...          ...  \n",
            "1995         19        1             1     0            0  \n",
            "1996         16        1             1     1            2  \n",
            "1997          5        1             1     0            3  \n",
            "1998         19        1             1     1            0  \n",
            "1999          2        1             1     1            3  \n",
            "\n",
            "[2000 rows x 21 columns]\n"
          ]
        }
      ]
    },
    {
      "cell_type": "code",
      "source": [
        "# Memisahkan atribut prediktor dan atribut label\n",
        "x = dataset.drop(columns=[\"price_range\"])\n",
        "y = dataset[\"price_range\"]\n",
        "\n",
        "print(\"Atribut Prediktor (Fitur):\")\n",
        "print(x.head())\n",
        "\n",
        "print(\"\\nAtribut Label:\")\n",
        "print(y.head())"
      ],
      "metadata": {
        "colab": {
          "base_uri": "https://localhost:8080/"
        },
        "id": "4PNIJfKASKoj",
        "outputId": "3563ac81-f129-4aac-ffd6-532cb1c99dfe"
      },
      "execution_count": 3,
      "outputs": [
        {
          "output_type": "stream",
          "name": "stdout",
          "text": [
            "Atribut Prediktor (Fitur):\n",
            "   battery_power  blue  clock_speed  dual_sim  fc  four_g  int_memory  m_dep  \\\n",
            "0          842.0     0          2.2         0   1       0         7.0    0.6   \n",
            "1         1021.0     1          0.5         1   0       1        53.0    0.7   \n",
            "2          563.0     1          0.5         1   2       1        41.0    0.9   \n",
            "3          615.0     1          2.5         0   0       0        10.0    0.8   \n",
            "4         1821.0     1          1.2         0  13       1        44.0    0.6   \n",
            "\n",
            "   mobile_wt  n_cores  pc  px_height  px_width     ram  sc_h  sc_w  talk_time  \\\n",
            "0      188.0        2   2         20       756     NaN     9     7         19   \n",
            "1      136.0        3   6        905      1988  2631.0    17     3          7   \n",
            "2      145.0        5   6       1263      1716  2603.0    11     2          9   \n",
            "3      131.0        6   9       1216      1786  2769.0    16     8         11   \n",
            "4      141.0        2  14       1208      1212  1411.0     8     2         15   \n",
            "\n",
            "   three_g  touch_screen  wifi  \n",
            "0        0             0     1  \n",
            "1        1             1     0  \n",
            "2        1             1     0  \n",
            "3        1             0     0  \n",
            "4        1             1     0  \n",
            "\n",
            "Atribut Label:\n",
            "0    1\n",
            "1    2\n",
            "2    2\n",
            "3    2\n",
            "4    1\n",
            "Name: price_range, dtype: int64\n"
          ]
        }
      ]
    },
    {
      "cell_type": "code",
      "source": [
        "# Handling Missing Values\n",
        "imputer = SimpleImputer(strategy=\"median\")\n",
        "\n",
        "x_imputed = imputer.fit_transform(x)\n",
        "x_imputed_df = pd.DataFrame(x_imputed, columns=x.columns)\n",
        "\n",
        "print(\"Atribut Prediktor setelah Pengisian Missing Values:\")\n",
        "print(x_imputed_df.head())"
      ],
      "metadata": {
        "colab": {
          "base_uri": "https://localhost:8080/"
        },
        "id": "hKYVxDXRTAas",
        "outputId": "a7276b8e-2ae0-4a2c-da3f-7c4d56f6932f"
      },
      "execution_count": 4,
      "outputs": [
        {
          "output_type": "stream",
          "name": "stdout",
          "text": [
            "Atribut Prediktor setelah Pengisian Missing Values:\n",
            "   battery_power  blue  clock_speed  dual_sim    fc  four_g  int_memory  \\\n",
            "0          842.0   0.0          2.2       0.0   1.0     0.0         7.0   \n",
            "1         1021.0   1.0          0.5       1.0   0.0     1.0        53.0   \n",
            "2          563.0   1.0          0.5       1.0   2.0     1.0        41.0   \n",
            "3          615.0   1.0          2.5       0.0   0.0     0.0        10.0   \n",
            "4         1821.0   1.0          1.2       0.0  13.0     1.0        44.0   \n",
            "\n",
            "   m_dep  mobile_wt  n_cores    pc  px_height  px_width     ram  sc_h  sc_w  \\\n",
            "0    0.6      188.0      2.0   2.0       20.0     756.0  2146.5   9.0   7.0   \n",
            "1    0.7      136.0      3.0   6.0      905.0    1988.0  2631.0  17.0   3.0   \n",
            "2    0.9      145.0      5.0   6.0     1263.0    1716.0  2603.0  11.0   2.0   \n",
            "3    0.8      131.0      6.0   9.0     1216.0    1786.0  2769.0  16.0   8.0   \n",
            "4    0.6      141.0      2.0  14.0     1208.0    1212.0  1411.0   8.0   2.0   \n",
            "\n",
            "   talk_time  three_g  touch_screen  wifi  \n",
            "0       19.0      0.0           0.0   1.0  \n",
            "1        7.0      1.0           1.0   0.0  \n",
            "2        9.0      1.0           1.0   0.0  \n",
            "3       11.0      1.0           0.0   0.0  \n",
            "4       15.0      1.0           1.0   0.0  \n"
          ]
        }
      ]
    },
    {
      "cell_type": "code",
      "source": [
        "# Random Sampling\n",
        "data_sampling = dataset.sample(n = 10, replace=True)\n",
        "print(data_sampling.head(10))"
      ],
      "metadata": {
        "colab": {
          "base_uri": "https://localhost:8080/"
        },
        "id": "ng13WSRXUVSE",
        "outputId": "a8eae92e-822d-43d1-95c8-081fd94b8b4c"
      },
      "execution_count": 5,
      "outputs": [
        {
          "output_type": "stream",
          "name": "stdout",
          "text": [
            "      battery_power  blue  clock_speed  dual_sim  fc  four_g  int_memory  \\\n",
            "1449          602.0     0          0.9         0   9       0        50.0   \n",
            "667           600.0     0          0.5         0   1       0        48.0   \n",
            "291          1563.0     0          1.7         1  10       0        16.0   \n",
            "382          1809.0     1          1.7         0   3       1        59.0   \n",
            "872           569.0     1          0.5         1  10       1         4.0   \n",
            "1450         1249.0     1          0.5         0   3       1        55.0   \n",
            "1386          610.0     1          1.6         1   9       0        52.0   \n",
            "88            668.0     0          0.5         1   0       0         3.0   \n",
            "35            725.0     0          1.3         1  16       0        60.0   \n",
            "1860         1646.0     0          2.5         0   3       1        25.0   \n",
            "\n",
            "      m_dep  mobile_wt  n_cores  ...  px_height  px_width     ram  sc_h  sc_w  \\\n",
            "1449    0.9      141.0        8  ...       1571      1717  2189.0     7     5   \n",
            "667     0.8      191.0        3  ...        501      1465  3393.0    12     7   \n",
            "291     0.1      151.0        7  ...        410       572  3922.0    11     1   \n",
            "382     0.1      174.0        3  ...        639       721  2324.0    10     6   \n",
            "872     0.8      170.0        3  ...        351      1159  2351.0     8     7   \n",
            "1450    0.8      140.0        3  ...        605      1193   531.0    18    10   \n",
            "1386    0.4       90.0        4  ...       1039      1273  3472.0    10     4   \n",
            "88      0.1      155.0        5  ...        666      1203  2746.0     9     5   \n",
            "35      0.4      160.0        8  ...       1134      1249  1326.0    10     4   \n",
            "1860    0.6      200.0        2  ...        211      1608   686.0     8     6   \n",
            "\n",
            "      talk_time  three_g  touch_screen  wifi  price_range  \n",
            "1449         16        0             1     0            2  \n",
            "667           8        1             0     0            2  \n",
            "291           8        0             0     1            3  \n",
            "382          16        1             0     1            2  \n",
            "872          10        1             1     0            1  \n",
            "1450         13        1             1     1            0  \n",
            "1386         12        1             1     1            3  \n",
            "88            8        1             1     1            2  \n",
            "35           15        1             0     0            1  \n",
            "1860         11        1             1     0            0  \n",
            "\n",
            "[10 rows x 21 columns]\n"
          ]
        }
      ]
    },
    {
      "cell_type": "code",
      "source": [
        "# Scaling Data\n",
        "scaler = StandardScaler()\n",
        "x_scaled = scaler.fit_transform(x_imputed_df)\n",
        "x_scaled_df = pd.DataFrame(x_scaled, columns=x.columns)\n",
        "\n",
        "print(\"Atribut Prediktor setelah Scaling:\")\n",
        "print(x_scaled_df.head())"
      ],
      "metadata": {
        "colab": {
          "base_uri": "https://localhost:8080/"
        },
        "id": "ND1NfxkuT4dX",
        "outputId": "1016a6a8-05e5-41b5-fa5d-837e711d41c2"
      },
      "execution_count": 6,
      "outputs": [
        {
          "output_type": "stream",
          "name": "stdout",
          "text": [
            "Atribut Prediktor setelah Scaling:\n",
            "   battery_power      blue  clock_speed  dual_sim        fc    four_g  \\\n",
            "0      -0.902700 -0.990050     0.830779 -1.019184 -0.762495 -1.043966   \n",
            "1      -0.494459  1.010051    -1.253064  0.981177 -0.992890  0.957886   \n",
            "2      -1.539009  1.010051    -1.253064  0.981177 -0.532099  0.957886   \n",
            "3      -1.420414  1.010051     1.198517 -1.019184 -0.992890 -1.043966   \n",
            "4       1.330083  1.010051    -0.395011 -1.019184  2.002254  0.957886   \n",
            "\n",
            "   int_memory     m_dep  mobile_wt   n_cores        pc  px_height  px_width  \\\n",
            "0   -1.381584  0.340740   1.349561 -1.101971 -1.305750  -1.408949 -1.146784   \n",
            "1    1.161752  0.687548  -0.123125 -0.664768 -0.645989   0.585778  1.704465   \n",
            "2    0.498273  1.381165   0.131763  0.209639 -0.645989   1.392684  1.074968   \n",
            "3   -1.215715  1.034357  -0.264729  0.646842 -0.151168   1.286750  1.236971   \n",
            "4    0.664142  0.340740   0.018479 -1.101971  0.673534   1.268718 -0.091452   \n",
            "\n",
            "        ram      sc_h      sc_w  talk_time   three_g  touch_screen      wifi  \n",
            "0  0.019780 -0.784983  0.283103   1.462493 -1.786861     -1.006018  0.986097  \n",
            "1  0.467604  1.114266 -0.635317  -0.734267  0.559641      0.994018 -1.014099  \n",
            "2  0.441724 -0.310171 -0.864922  -0.368140  0.559641      0.994018 -1.014099  \n",
            "3  0.595158  0.876859  0.512708  -0.002014  0.559641     -1.006018 -1.014099  \n",
            "4 -0.660043 -1.022389 -0.864922   0.730240  0.559641      0.994018 -1.014099  \n"
          ]
        }
      ]
    },
    {
      "cell_type": "code",
      "source": [
        "# Menampilkan Statistik Deskriptif\n",
        "print(\"Statistik deskriptif sebelum pengisian missing values:\")\n",
        "print(x.describe())\n",
        "\n",
        "print(\"\\nStatistik deskriptif setelah pengisian missing values dan standarisasi:\")\n",
        "print(x_scaled_df.describe())"
      ],
      "metadata": {
        "colab": {
          "base_uri": "https://localhost:8080/"
        },
        "id": "uXOSh5kcUKWB",
        "outputId": "c57bec18-07e5-418a-cf78-10748b9e3512"
      },
      "execution_count": 7,
      "outputs": [
        {
          "output_type": "stream",
          "name": "stdout",
          "text": [
            "Statistik deskriptif sebelum pengisian missing values:\n",
            "       battery_power       blue  clock_speed     dual_sim           fc  \\\n",
            "count    1990.000000  2000.0000  2000.000000  2000.000000  2000.000000   \n",
            "mean     1237.867839     0.4950     1.522250     0.509500     4.309500   \n",
            "std       439.676025     0.5001     0.816004     0.500035     4.341444   \n",
            "min       501.000000     0.0000     0.500000     0.000000     0.000000   \n",
            "25%       850.250000     0.0000     0.700000     0.000000     1.000000   \n",
            "50%      1225.000000     0.0000     1.500000     1.000000     3.000000   \n",
            "75%      1615.000000     1.0000     2.200000     1.000000     7.000000   \n",
            "max      1998.000000     1.0000     3.000000     1.000000    19.000000   \n",
            "\n",
            "            four_g   int_memory        m_dep    mobile_wt      n_cores  \\\n",
            "count  2000.000000  1990.000000  2000.000000  1990.000000  2000.000000   \n",
            "mean      0.521500    31.987940     0.501750   140.344221     4.520500   \n",
            "std       0.499662    18.136427     0.288416    35.407114     2.287837   \n",
            "min       0.000000     2.000000     0.100000    80.000000     1.000000   \n",
            "25%       0.000000    16.000000     0.200000   109.000000     3.000000   \n",
            "50%       1.000000    32.000000     0.500000   141.000000     4.000000   \n",
            "75%       1.000000    48.000000     0.800000   170.000000     7.000000   \n",
            "max       1.000000    64.000000     1.000000   200.000000     8.000000   \n",
            "\n",
            "                pc    px_height     px_width          ram         sc_h  \\\n",
            "count  2000.000000  2000.000000  2000.000000  1990.000000  2000.000000   \n",
            "mean      9.916500   645.108000  1251.515500  2124.991960    12.306500   \n",
            "std       6.064315   443.780811   432.199447  1084.885362     4.213245   \n",
            "min       0.000000     0.000000   500.000000   256.000000     5.000000   \n",
            "25%       5.000000   282.750000   874.750000  1208.250000     9.000000   \n",
            "50%      10.000000   564.000000  1247.000000  2146.500000    12.000000   \n",
            "75%      15.000000   947.250000  1633.000000  3065.500000    16.000000   \n",
            "max      20.000000  1960.000000  1998.000000  3998.000000    19.000000   \n",
            "\n",
            "              sc_w    talk_time      three_g  touch_screen         wifi  \n",
            "count  2000.000000  2000.000000  2000.000000   2000.000000  2000.000000  \n",
            "mean      5.767000    11.011000     0.761500      0.503000     0.507000  \n",
            "std       4.356398     5.463955     0.426273      0.500116     0.500076  \n",
            "min       0.000000     2.000000     0.000000      0.000000     0.000000  \n",
            "25%       2.000000     6.000000     1.000000      0.000000     0.000000  \n",
            "50%       5.000000    11.000000     1.000000      1.000000     1.000000  \n",
            "75%       9.000000    16.000000     1.000000      1.000000     1.000000  \n",
            "max      18.000000    20.000000     1.000000      1.000000     1.000000  \n",
            "\n",
            "Statistik deskriptif setelah pengisian missing values dan standarisasi:\n",
            "       battery_power          blue   clock_speed      dual_sim            fc  \\\n",
            "count   2.000000e+03  2.000000e+03  2.000000e+03  2.000000e+03  2.000000e+03   \n",
            "mean    2.842171e-17 -1.243450e-17 -1.545430e-16  8.082424e-17  5.861978e-17   \n",
            "std     1.000250e+00  1.000250e+00  1.000250e+00  1.000250e+00  1.000250e+00   \n",
            "min    -1.680411e+00 -9.900495e-01 -1.253064e+00 -1.019184e+00 -9.928904e-01   \n",
            "25%    -8.804636e-01 -9.900495e-01 -1.007906e+00 -1.019184e+00 -7.624947e-01   \n",
            "50%    -2.920066e-02 -9.900495e-01 -2.727384e-02  9.811771e-01 -3.017032e-01   \n",
            "75%     8.579829e-01  1.010051e+00  8.307794e-01  9.811771e-01  6.198797e-01   \n",
            "max     1.733763e+00  1.010051e+00  1.811412e+00  9.811771e-01  3.384628e+00   \n",
            "\n",
            "             four_g    int_memory         m_dep     mobile_wt       n_cores  \\\n",
            "count  2.000000e+03  2.000000e+03  2.000000e+03  2.000000e+03  2.000000e+03   \n",
            "mean   1.048051e-16  3.197442e-17 -1.030287e-16  8.881784e-17 -7.727152e-17   \n",
            "std    1.000250e+00  1.000250e+00  1.000250e+00  1.000250e+00  1.000250e+00   \n",
            "min   -1.043966e+00 -1.658034e+00 -1.393304e+00 -1.709094e+00 -1.539175e+00   \n",
            "25%   -1.043966e+00 -8.839751e-01 -1.046495e+00 -8.877887e-01 -6.647678e-01   \n",
            "50%    9.578860e-01  6.634789e-04 -6.069151e-03  1.847937e-02 -2.275644e-01   \n",
            "75%    9.578860e-01  8.853020e-01  1.034357e+00  8.397848e-01  1.084046e+00   \n",
            "max    9.578860e-01  1.769941e+00  1.727974e+00  1.689411e+00  1.521249e+00   \n",
            "\n",
            "                 pc     px_height      px_width           ram          sc_h  \\\n",
            "count  2.000000e+03  2.000000e+03  2.000000e+03  2.000000e+03  2.000000e+03   \n",
            "mean   1.403322e-16  1.181277e-16  6.084022e-17  1.740830e-16  4.884981e-17   \n",
            "std    1.000250e+00  1.000250e+00  1.000250e+00  1.000250e+00  1.000250e+00   \n",
            "min   -1.635631e+00 -1.454027e+00 -1.739251e+00 -1.727610e+00 -1.734608e+00   \n",
            "25%   -8.109291e-01 -8.167289e-01 -8.719579e-01 -8.451340e-01 -7.849833e-01   \n",
            "50%    1.377252e-02 -1.828116e-01 -1.045034e-02  1.978050e-02 -7.276497e-02   \n",
            "75%    8.384742e-01  6.810064e-01  8.828792e-01  8.641293e-01  8.768595e-01   \n",
            "max    1.663176e+00  2.963672e+00  1.727608e+00  1.731123e+00  1.589078e+00   \n",
            "\n",
            "               sc_w     talk_time       three_g  touch_screen          wifi  \n",
            "count  2.000000e+03  2.000000e+03  2.000000e+03  2.000000e+03  2.000000e+03  \n",
            "mean  -5.506706e-17  1.421085e-16  1.421085e-17 -5.417888e-17  1.421085e-17  \n",
            "std    1.000250e+00  1.000250e+00  1.000250e+00  1.000250e+00  1.000250e+00  \n",
            "min   -1.324131e+00 -1.649584e+00 -1.786861e+00 -1.006018e+00 -1.014099e+00  \n",
            "25%   -8.649215e-01 -9.173306e-01  5.596406e-01 -1.006018e+00 -1.014099e+00  \n",
            "50%   -1.761069e-01 -2.013697e-03  5.596406e-01  9.940179e-01  9.860966e-01  \n",
            "75%    7.423125e-01  9.133032e-01  5.596406e-01  9.940179e-01  9.860966e-01  \n",
            "max    2.808756e+00  1.645557e+00  5.596406e-01  9.940179e-01  9.860966e-01  \n"
          ]
        }
      ]
    },
    {
      "cell_type": "markdown",
      "source": [
        "# Soal Nomor 3"
      ],
      "metadata": {
        "id": "5O2Tw38aWMbB"
      }
    },
    {
      "cell_type": "markdown",
      "source": [
        "# Decision Tree"
      ],
      "metadata": {
        "id": "36OTv7mvCNDx"
      }
    },
    {
      "cell_type": "markdown",
      "source": [
        "Menggunakan Algoritma ***Decision Tree***\n",
        "\n",
        "---\n",
        "\n"
      ],
      "metadata": {
        "id": "0DGBzT9LdXAL"
      }
    },
    {
      "cell_type": "code",
      "source": [
        "# Bagi dataset menjadi data training (80%) dan data testing (20%)\n",
        "x_train, x_test, y_train, y_test = train_test_split(x_scaled_df, y, test_size=0.2, random_state=0)"
      ],
      "metadata": {
        "id": "xcgAs49cXFxa"
      },
      "execution_count": 30,
      "outputs": []
    },
    {
      "cell_type": "code",
      "source": [
        "dtree_model = DecisionTreeClassifier(random_state=42).fit(x_train, y_train)"
      ],
      "metadata": {
        "id": "0zAS76tPaPPX"
      },
      "execution_count": 27,
      "outputs": []
    },
    {
      "cell_type": "code",
      "source": [
        "# Visualisasi model Decision Tree dalam bentuk teks\n",
        "text_representation = tree.export_text(dtree_model, feature_names=list(x.columns))\n",
        "print(text_representation)"
      ],
      "metadata": {
        "id": "o9DN4m6HZ2ok"
      },
      "execution_count": null,
      "outputs": []
    },
    {
      "cell_type": "code",
      "source": [
        "# Visualisasi model Decision Tree dalam bentuk gambar\n",
        "plt.figure(figsize=(12, 8))\n",
        "tree.plot_tree(dtree_model,\n",
        "               feature_names=list(x.columns),\n",
        "               class_names=[\"0\", \"1\", \"2\", \"3\"],\n",
        "               filled=True,\n",
        "               rounded=True)\n",
        "plt.show()"
      ],
      "metadata": {
        "id": "56hrVMYTabHs"
      },
      "execution_count": null,
      "outputs": []
    },
    {
      "cell_type": "code",
      "source": [
        "y_pred = dtree_model.predict(x_test)\n",
        "\n",
        "# Hitung Akurasi\n",
        "accuracy = dtree_model.score(x_test, y_test) * 100\n",
        "print(\"Akurasi:\", accuracy, \"%\")\n",
        "\n",
        "# Hitung confusion matrix\n",
        "confusion = confusion_matrix(y_test, y_pred)\n",
        "print(\"Confusion Matrix:\")\n",
        "print(confusion)\n",
        "\n",
        "# Tampilkan Classification Report\n",
        "report = classification_report(y_test, y_pred)\n",
        "print(\"Classification Report:\", report)"
      ],
      "metadata": {
        "colab": {
          "base_uri": "https://localhost:8080/"
        },
        "id": "23ba8bECbd9y",
        "outputId": "0c3f3b55-b2c9-4ba8-a441-f43179988843"
      },
      "execution_count": 28,
      "outputs": [
        {
          "output_type": "stream",
          "name": "stdout",
          "text": [
            "Akurasi: 81.75 %\n",
            "Confusion Matrix:\n",
            "[[90 15  0  0]\n",
            " [ 5 74 12  0]\n",
            " [ 0 16 64 12]\n",
            " [ 0  0 13 99]]\n",
            "Classification Report:               precision    recall  f1-score   support\n",
            "\n",
            "           0       0.95      0.86      0.90       105\n",
            "           1       0.70      0.81      0.76        91\n",
            "           2       0.72      0.70      0.71        92\n",
            "           3       0.89      0.88      0.89       112\n",
            "\n",
            "    accuracy                           0.82       400\n",
            "   macro avg       0.82      0.81      0.81       400\n",
            "weighted avg       0.82      0.82      0.82       400\n",
            "\n"
          ]
        }
      ]
    },
    {
      "cell_type": "markdown",
      "source": [
        "# Soal Nomor 4"
      ],
      "metadata": {
        "id": "zRHqEGOBdlso"
      }
    },
    {
      "cell_type": "markdown",
      "source": [
        "Menggunakan Algoritma ***K-Means***\n",
        "\n",
        "---\n",
        "\n"
      ],
      "metadata": {
        "id": "Jd2O-0N6doXI"
      }
    },
    {
      "cell_type": "code",
      "source": [
        "# Inisialisasi model K-Means\n",
        "kmeans_model = KMeans(init=\"random\", n_clusters=3, n_init=10)\n",
        "# Latih model dengan data yang telah diproses\n",
        "kmeans_model.fit(x_scaled_df)"
      ],
      "metadata": {
        "colab": {
          "base_uri": "https://localhost:8080/",
          "height": 75
        },
        "id": "HqLKOYpjgMzo",
        "outputId": "9153ad2d-947b-4745-c54e-1971f03c22f3"
      },
      "execution_count": 14,
      "outputs": [
        {
          "output_type": "execute_result",
          "data": {
            "text/plain": [
              "KMeans(init='random', n_clusters=3, n_init=10)"
            ],
            "text/html": [
              "<style>#sk-container-id-1 {color: black;background-color: white;}#sk-container-id-1 pre{padding: 0;}#sk-container-id-1 div.sk-toggleable {background-color: white;}#sk-container-id-1 label.sk-toggleable__label {cursor: pointer;display: block;width: 100%;margin-bottom: 0;padding: 0.3em;box-sizing: border-box;text-align: center;}#sk-container-id-1 label.sk-toggleable__label-arrow:before {content: \"▸\";float: left;margin-right: 0.25em;color: #696969;}#sk-container-id-1 label.sk-toggleable__label-arrow:hover:before {color: black;}#sk-container-id-1 div.sk-estimator:hover label.sk-toggleable__label-arrow:before {color: black;}#sk-container-id-1 div.sk-toggleable__content {max-height: 0;max-width: 0;overflow: hidden;text-align: left;background-color: #f0f8ff;}#sk-container-id-1 div.sk-toggleable__content pre {margin: 0.2em;color: black;border-radius: 0.25em;background-color: #f0f8ff;}#sk-container-id-1 input.sk-toggleable__control:checked~div.sk-toggleable__content {max-height: 200px;max-width: 100%;overflow: auto;}#sk-container-id-1 input.sk-toggleable__control:checked~label.sk-toggleable__label-arrow:before {content: \"▾\";}#sk-container-id-1 div.sk-estimator input.sk-toggleable__control:checked~label.sk-toggleable__label {background-color: #d4ebff;}#sk-container-id-1 div.sk-label input.sk-toggleable__control:checked~label.sk-toggleable__label {background-color: #d4ebff;}#sk-container-id-1 input.sk-hidden--visually {border: 0;clip: rect(1px 1px 1px 1px);clip: rect(1px, 1px, 1px, 1px);height: 1px;margin: -1px;overflow: hidden;padding: 0;position: absolute;width: 1px;}#sk-container-id-1 div.sk-estimator {font-family: monospace;background-color: #f0f8ff;border: 1px dotted black;border-radius: 0.25em;box-sizing: border-box;margin-bottom: 0.5em;}#sk-container-id-1 div.sk-estimator:hover {background-color: #d4ebff;}#sk-container-id-1 div.sk-parallel-item::after {content: \"\";width: 100%;border-bottom: 1px solid gray;flex-grow: 1;}#sk-container-id-1 div.sk-label:hover label.sk-toggleable__label {background-color: #d4ebff;}#sk-container-id-1 div.sk-serial::before {content: \"\";position: absolute;border-left: 1px solid gray;box-sizing: border-box;top: 0;bottom: 0;left: 50%;z-index: 0;}#sk-container-id-1 div.sk-serial {display: flex;flex-direction: column;align-items: center;background-color: white;padding-right: 0.2em;padding-left: 0.2em;position: relative;}#sk-container-id-1 div.sk-item {position: relative;z-index: 1;}#sk-container-id-1 div.sk-parallel {display: flex;align-items: stretch;justify-content: center;background-color: white;position: relative;}#sk-container-id-1 div.sk-item::before, #sk-container-id-1 div.sk-parallel-item::before {content: \"\";position: absolute;border-left: 1px solid gray;box-sizing: border-box;top: 0;bottom: 0;left: 50%;z-index: -1;}#sk-container-id-1 div.sk-parallel-item {display: flex;flex-direction: column;z-index: 1;position: relative;background-color: white;}#sk-container-id-1 div.sk-parallel-item:first-child::after {align-self: flex-end;width: 50%;}#sk-container-id-1 div.sk-parallel-item:last-child::after {align-self: flex-start;width: 50%;}#sk-container-id-1 div.sk-parallel-item:only-child::after {width: 0;}#sk-container-id-1 div.sk-dashed-wrapped {border: 1px dashed gray;margin: 0 0.4em 0.5em 0.4em;box-sizing: border-box;padding-bottom: 0.4em;background-color: white;}#sk-container-id-1 div.sk-label label {font-family: monospace;font-weight: bold;display: inline-block;line-height: 1.2em;}#sk-container-id-1 div.sk-label-container {text-align: center;}#sk-container-id-1 div.sk-container {/* jupyter's `normalize.less` sets `[hidden] { display: none; }` but bootstrap.min.css set `[hidden] { display: none !important; }` so we also need the `!important` here to be able to override the default hidden behavior on the sphinx rendered scikit-learn.org. See: https://github.com/scikit-learn/scikit-learn/issues/21755 */display: inline-block !important;position: relative;}#sk-container-id-1 div.sk-text-repr-fallback {display: none;}</style><div id=\"sk-container-id-1\" class=\"sk-top-container\"><div class=\"sk-text-repr-fallback\"><pre>KMeans(init=&#x27;random&#x27;, n_clusters=3, n_init=10)</pre><b>In a Jupyter environment, please rerun this cell to show the HTML representation or trust the notebook. <br />On GitHub, the HTML representation is unable to render, please try loading this page with nbviewer.org.</b></div><div class=\"sk-container\" hidden><div class=\"sk-item\"><div class=\"sk-estimator sk-toggleable\"><input class=\"sk-toggleable__control sk-hidden--visually\" id=\"sk-estimator-id-1\" type=\"checkbox\" checked><label for=\"sk-estimator-id-1\" class=\"sk-toggleable__label sk-toggleable__label-arrow\">KMeans</label><div class=\"sk-toggleable__content\"><pre>KMeans(init=&#x27;random&#x27;, n_clusters=3, n_init=10)</pre></div></div></div></div></div>"
            ]
          },
          "metadata": {},
          "execution_count": 14
        }
      ]
    },
    {
      "cell_type": "code",
      "source": [
        "# Detail Model K-Means\n",
        "print(\"Sum of Squared Error(SSE):\", kmeans_model.inertia_)\n",
        "print(\"Koordinat Pusat:\", kmeans_model.cluster_centers_)\n",
        "print(\"Jumlah Iterasi:\", kmeans_model.n_iter_)\n",
        "print(\"Label Klaster\", kmeans_model.labels_)"
      ],
      "metadata": {
        "colab": {
          "base_uri": "https://localhost:8080/"
        },
        "id": "RZUdby3rdxWf",
        "outputId": "7f1382de-daeb-4f71-a99f-8f66dc52d10e"
      },
      "execution_count": 15,
      "outputs": [
        {
          "output_type": "stream",
          "name": "stdout",
          "text": [
            "Sum of Squared Error(SSE): 35466.9240534221\n",
            "Koordinat Pusat: [[-2.25929060e-02  5.40278587e-02  8.29702032e-02  2.50296755e-02\n",
            "  -3.20308023e-03 -1.04396559e+00  2.06003018e-02  2.15592111e-02\n",
            "  -6.33850321e-03  2.63252384e-02  2.36155130e-03  5.57031379e-02\n",
            "  -6.25369983e-04 -2.71108112e-02 -2.15011793e-02 -5.52876005e-02\n",
            "   7.62775587e-02 -1.78686097e+00 -2.48683722e-02 -7.71144758e-03]\n",
            " [ 9.03782572e-02 -3.47301711e-02  4.25208270e-03 -1.14867381e-01\n",
            "   8.84503554e-01  2.95931863e-01 -1.40917553e-01 -2.04733449e-02\n",
            "   5.40840532e-02 -4.52798897e-02  9.34645433e-01 -7.00323871e-02\n",
            "  -8.18838700e-02  8.30759095e-02 -3.63576455e-02 -2.05918154e-02\n",
            "   3.24934571e-02  5.59640631e-01  8.02634256e-02 -7.61096955e-03]\n",
            " [-5.10590556e-02 -4.49297828e-03 -4.70887299e-02  6.68537627e-02\n",
            "  -6.15575647e-01  3.48626802e-01  8.73891237e-02  2.82337817e-03\n",
            "  -3.43736357e-02  1.76009723e-02 -6.53527872e-01  1.92529292e-02\n",
            "   5.74778195e-02 -4.35603817e-02  3.68070776e-02  4.37710835e-02\n",
            "  -6.32389071e-02  5.59640631e-01 -4.27900679e-02  9.41229369e-03]]\n",
            "Jumlah Iterasi: 42\n",
            "Label Klaster [0 2 2 ... 2 2 1]\n"
          ]
        }
      ]
    },
    {
      "cell_type": "code",
      "source": [
        "# Menentukan jumlah klaster optimal\n",
        "kmeans_kwargs = {\"init\": \"random\", \"n_init\": 10}\n",
        "sse = []\n",
        "for k in range(1, 20):\n",
        "    kmeans = KMeans(n_clusters=k, **kmeans_kwargs)\n",
        "    kmeans.fit(x_scaled_df)\n",
        "    sse.append(kmeans.inertia_)\n",
        "\n",
        "plt.style.use(\"fivethirtyeight\")\n",
        "plt.plot(range(1, 20), sse)\n",
        "plt.xticks(range(1, 20))\n",
        "plt.xlabel(\"Jumlah Cluster\")\n",
        "plt.ylabel(\"SSE\")\n",
        "plt.show()\n",
        "\n",
        "# KneeLocator untuk menentukan jumlah klaster optimal (elbow point)\n",
        "kl = KneeLocator(x=range(1, 20), y=sse, curve=\"convex\", direction=\"decreasing\")\n",
        "optimal_cluster_count = kl.elbow\n",
        "\n",
        "print(\"Jumlah klaster optimal (Elbow Point):\", optimal_cluster_count)"
      ],
      "metadata": {
        "colab": {
          "base_uri": "https://localhost:8080/",
          "height": 495
        },
        "id": "bYXzH6Y8jMGD",
        "outputId": "f5abf527-f78a-41f8-f3ea-e51bd170410f"
      },
      "execution_count": 16,
      "outputs": [
        {
          "output_type": "display_data",
          "data": {
            "text/plain": [
              "<Figure size 640x480 with 1 Axes>"
            ],
            "image/png": "[encoded data removed]"
          },
          "metadata": {}
        },
        {
          "output_type": "stream",
          "name": "stdout",
          "text": [
            "Jumlah klaster optimal (Elbow Point): 5\n"
          ]
        }
      ]
    },
    {
      "cell_type": "code",
      "source": [
        "# Menampilkan Silhouette Coefficients\n",
        "kmeans_kwargs = {\"init\": \"random\", \"n_init\": 10}\n",
        "silhouette_coefficients = []\n",
        "\n",
        "for k in range(2, 21):\n",
        "    kmeans = KMeans(n_clusters=k, **kmeans_kwargs)\n",
        "    kmeans.fit(x_scaled_df)\n",
        "    score = silhouette_score(x_scaled_df, kmeans.labels_)\n",
        "    silhouette_coefficients.append(score)\n",
        "\n",
        "print(\"Silhouette Score:\", silhouette_coefficients)\n",
        "\n",
        "plt.style.use(\"fivethirtyeight\")\n",
        "plt.plot(range(2, 21), silhouette_coefficients)\n",
        "plt.xticks(range(2, 21))\n",
        "plt.xlabel(\"Jumlah Cluster\")\n",
        "plt.ylabel(\"Silhouette Coefficient\")\n",
        "plt.show()"
      ],
      "metadata": {
        "colab": {
          "base_uri": "https://localhost:8080/",
          "height": 515
        },
        "id": "ngCU1iCnk5oR",
        "outputId": "b65bfda0-2453-4d7f-ef0f-5190c524b455"
      },
      "execution_count": 17,
      "outputs": [
        {
          "output_type": "stream",
          "name": "stdout",
          "text": [
            "Silhouette Score: [0.067724062611456, 0.0656206953557934, 0.05825890662988278, 0.0539463566674564, 0.047748612993790816, 0.048644940378148024, 0.04772067016057992, 0.04632408914912659, 0.04536624878416481, 0.04524892291864635, 0.04431754742773411, 0.04445176689270375, 0.04464722097754022, 0.045481899552128474, 0.04542578164423719, 0.0464326412478997, 0.04633661087060364, 0.04666432974687405, 0.04672178302473081]\n"
          ]
        },
        {
          "output_type": "display_data",
          "data": {
            "text/plain": [
              "<Figure size 640x480 with 1 Axes>"
            ],
            "image/png": "[encoded data removed]"
          },
          "metadata": {}
        }
      ]
    }
  ]
}